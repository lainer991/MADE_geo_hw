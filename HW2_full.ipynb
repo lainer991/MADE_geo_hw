{
  "nbformat": 4,
  "nbformat_minor": 0,
  "metadata": {
    "kernelspec": {
      "display_name": "Python 3",
      "language": "python",
      "name": "python3"
    },
    "language_info": {
      "codemirror_mode": {
        "name": "ipython",
        "version": 3
      },
      "file_extension": ".py",
      "mimetype": "text/x-python",
      "name": "python",
      "nbconvert_exporter": "python",
      "pygments_lexer": "ipython3",
      "version": "3.8.3"
    },
    "colab": {
      "name": "HW2.ipynb",
      "provenance": [],
      "collapsed_sections": []
    }
  },
  "cells": [
    {
      "cell_type": "markdown",
      "metadata": {
        "id": "DP0XXJMsFMLw"
      },
      "source": [
        "# Анализ пространственных данных. Домашнее задание №2"
      ]
    },
    {
      "cell_type": "markdown",
      "metadata": {
        "id": "p0ory3oAFMLx"
      },
      "source": [
        "Мягкий дедлайн: __4 ноября 2020 г. 23:59__\n",
        "\n",
        "Жесткий дедлайн (со штрафом в _50%_ от количества набранных вами за ДЗ баллов): __5 ноября 2020 г. 08:59__"
      ]
    },
    {
      "cell_type": "markdown",
      "metadata": {
        "id": "AClP2GqwFMLy"
      },
      "source": [
        "Визуализация \"чего-либо\" __без__ выполненного основного задания оценивается в __0 баллов__"
      ]
    },
    {
      "cell_type": "markdown",
      "metadata": {
        "id": "zcshDhx2FMLz"
      },
      "source": [
        "ФИО: `Толстов Евгений Дмитриевич`"
      ]
    },
    {
      "cell_type": "markdown",
      "metadata": {
        "id": "qxCF7aPVFMLz"
      },
      "source": [
        "Группа: `DS-11`\n"
      ]
    },
    {
      "cell_type": "markdown",
      "metadata": {
        "id": "2yqBr4iCFML0"
      },
      "source": [
        "## Задание №1. Горячая точка (алгоритм - 10 баллов, визуализация - 10 баллов)."
      ]
    },
    {
      "cell_type": "markdown",
      "metadata": {
        "id": "C7bXAUhBFML0"
      },
      "source": [
        "Генерируйте рандомные точки на планете Земля до тех пор, пока не попадете на территорию ``Афганистана``"
      ]
    },
    {
      "cell_type": "markdown",
      "metadata": {
        "id": "nE9xYuANFML2"
      },
      "source": [
        "1. Вы можете использовать функции принадлжености точки полигону и расстояния от точки до полигона (в метрах)\n",
        "2. Предложите не наивный алгоритм поиска (генерировать __напрямую__ точку из полигона границ Афганистана __запрещено__)"
      ]
    },
    {
      "cell_type": "code",
      "metadata": {
        "id": "uQUJAkZHFML2"
      },
      "source": [
        "# put your code here"
      ],
      "execution_count": null,
      "outputs": []
    },
    {
      "cell_type": "code",
      "metadata": {
        "id": "sbYqGi9zQFoK"
      },
      "source": [
        "# ! pip install geopip"
      ],
      "execution_count": 63,
      "outputs": []
    },
    {
      "cell_type": "code",
      "metadata": {
        "id": "D4kAUzWr6fLV"
      },
      "source": [
        "from random import uniform\n",
        "from shapely.geometry import Point, LineString, shape, Polygon\n",
        "import geopip\n",
        "import folium"
      ],
      "execution_count": 43,
      "outputs": []
    },
    {
      "cell_type": "code",
      "metadata": {
        "id": "gQvaEzsGPu0-"
      },
      "source": [
        "# функция генерации случайных гео-точек внутри заданного полигона\n",
        "\n",
        "import random\n",
        "from shapely.geometry import Point\n",
        "\n",
        "def generate_random(number, polygon):\n",
        "    points = []\n",
        "    minx, miny, maxx, maxy = polygon.bounds\n",
        "    while len(points) < number:\n",
        "        pnt = Point(random.uniform(minx, maxx), random.uniform(miny, maxy))\n",
        "        if polygon.contains(pnt):\n",
        "            points.append(pnt)\n",
        "    return points"
      ],
      "execution_count": 44,
      "outputs": []
    },
    {
      "cell_type": "code",
      "metadata": {
        "id": "jdhzv6miGX2J"
      },
      "source": [
        "# создадим рекурсивную функцию проверки нахождения точки в Афганистане.\n",
        "\n",
        "rand_list = []\n",
        "\n",
        "def find_taliban_point(point_start):\n",
        "  kabul_point = (69.092047, 34.501541)\n",
        "\n",
        "  # создаем полигон по 4 точкам: Кабул, случайной и двум точкам со смешанными координатами\n",
        "\n",
        "  pol = Polygon([kabul_point,\n",
        "          point_start, \n",
        "          (point_start[0], kabul_point[1]),\n",
        "          (kabul_point[0], point_start[1])])\n",
        "\n",
        "  # создаем рандомную точку в полигоне\n",
        "  random_point = generate_random(1, pol)\n",
        "  rand_list.append(random_point) \n",
        "  \n",
        "  # проверяем страну. Ошибки при попадании в межнудародные воды\n",
        "  try:\n",
        "    country_name = geopip.search(lng = random_point[0].x, lat = random_point[0].y)['NAME']\n",
        "  except TypeError:\n",
        "    country_name = 'Not founded, probably international water'\n",
        "  \n",
        "  if country_name  == 'Afghanistan':\n",
        "    print('Gotcha!')\n",
        "  elif country_name != 'Afghanistan':\n",
        "    print('No, for now it is: ', country_name)\n",
        "    find_taliban_point((random_point[0].x,random_point[0].y))\n",
        "\n",
        "  return random_point"
      ],
      "execution_count": 76,
      "outputs": []
    },
    {
      "cell_type": "code",
      "metadata": {
        "id": "xvxZk6OMzhHG",
        "outputId": "077e9c06-a498-4609-f2b9-60e71f441b8a",
        "colab": {
          "base_uri": "https://localhost:8080/"
        }
      },
      "source": [
        "# запуск\n",
        "\n",
        "x, y = uniform(-180,180), uniform(-90, 90)\n",
        "point = (x,y)\n",
        "\n",
        "rand_list = []\n",
        "lst = len(rand_list)\n",
        "\n",
        "start = find_taliban_point(point)\n",
        "\n",
        "afgan_point = rand_list[lst - 1][0]"
      ],
      "execution_count": 82,
      "outputs": [
        {
          "output_type": "stream",
          "text": [
            "No, for now it is:  Not founded, probably international water\n",
            "No, for now it is:  Saudi Arabia\n",
            "No, for now it is:  Saudi Arabia\n",
            "No, for now it is:  Iran (Islamic Republic of)\n",
            "No, for now it is:  Iran (Islamic Republic of)\n",
            "No, for now it is:  Iran (Islamic Republic of)\n",
            "Gotcha!\n"
          ],
          "name": "stdout"
        }
      ]
    },
    {
      "cell_type": "code",
      "metadata": {
        "id": "m3vPOBUE60H3",
        "outputId": "8abbee11-b7dc-4dfe-fee0-27d3e888a99a",
        "colab": {
          "base_uri": "https://localhost:8080/",
          "height": 1000
        }
      },
      "source": [
        "# Визуализация. Точки кликабельны\n",
        "\n",
        "m = folium.Map(\n",
        "    location=[rand_list[lst - 1][0].y, rand_list[lst - 1][0].x],\n",
        "    zoom_start=4,\n",
        "    tiles='Stamen Terrain'\n",
        ")\n",
        "\n",
        "tooltip = 'Click me!'\n",
        "\n",
        "for i in range(len(rand_list)):\n",
        "  folium.Marker([rand_list[i][0].y, rand_list[i][0].x],popup='<i>Its point N:{}</i>'.format(i), tooltip=tooltip).add_to(m)\n",
        "m"
      ],
      "execution_count": 83,
      "outputs": [
        {
          "output_type": "execute_result",
          "data": {
            "text/html": [
              "<div style=\"width:100%;\"><div style=\"position:relative;width:100%;height:0;padding-bottom:60%;\"><span style=\"color:#565656\">Make this Notebook Trusted to load map: File -> Trust Notebook</span><iframe src=\"about:blank\" style=\"position:absolute;width:100%;height:100%;left:0;top:0;border:none !important;\" data-html=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 onload=\"this.contentDocument.open();this.contentDocument.write(atob(this.getAttribute('data-html')));this.contentDocument.close();\" allowfullscreen webkitallowfullscreen mozallowfullscreen></iframe></div></div>"
            ],
            "text/plain": [
              "<folium.folium.Map at 0x7fad55947278>"
            ]
          },
          "metadata": {
            "tags": []
          },
          "execution_count": 83
        }
      ]
    },
    {
      "cell_type": "markdown",
      "metadata": {
        "id": "wZV_Epa8WR8f"
      },
      "source": [
        ""
      ]
    },
    {
      "cell_type": "markdown",
      "metadata": {
        "id": "xsPWYyWEFML7"
      },
      "source": [
        "Визуализируйте пошагово предложенный алгоритм при помощи ``Folium``"
      ]
    },
    {
      "cell_type": "markdown",
      "metadata": {
        "id": "pdYesc-SFML8"
      },
      "source": [
        "## Задание №2. Качество жизни (20 баллов)."
      ]
    },
    {
      "cell_type": "markdown",
      "metadata": {
        "id": "4AupHieuFML9"
      },
      "source": [
        "Для измерения показателя качества жизни в точке, найденной в предыдущем задании, вам необходимо рассчитать следующую сумму расстояний (в метрах):"
      ]
    },
    {
      "cell_type": "markdown",
      "metadata": {
        "id": "1uTM7947FML_"
      },
      "source": [
        "**1. Расстояние от точки до 5 ближайших __*__ банкоматов, находящихся в стране с наибольшим количеством объектов жилой недвижимости**\n"
      ]
    },
    {
      "cell_type": "markdown",
      "metadata": {
        "id": "_e3zRPjOFMMA"
      },
      "source": [
        "__*__ При поиске _N_ ближайших объектов обязательно использовать ``R-tree``\n",
        "\n",
        "__**__ Южной частью страны является территория, находящаяся к югу от множества точек, равноудаленных от самой северной и самой южной точек страны"
      ]
    },
    {
      "cell_type": "code",
      "metadata": {
        "id": "fJVG0vp0FMMB"
      },
      "source": [
        "# put your code here"
      ],
      "execution_count": null,
      "outputs": []
    },
    {
      "cell_type": "code",
      "metadata": {
        "id": "C0Ibi-hbdrJi"
      },
      "source": [
        "# pip install OSMPythonTools\n",
        "# pip install country_list\n",
        "# pip install rtree"
      ],
      "execution_count": 84,
      "outputs": []
    },
    {
      "cell_type": "code",
      "metadata": {
        "id": "XUheB0Cx92Wx"
      },
      "source": [
        "# !curl -L http://download.osgeo.org/libspatialindex/spatialindex-src-1.8.5.tar.gz | tar xz\n",
        "# %cd spatialindex-src-1.8.5\n",
        "# !./configure\n",
        "# !make\n",
        "# !make install\n",
        "# !ldconfig\n",
        "# !pip install rtree==0.8.3"
      ],
      "execution_count": 210,
      "outputs": []
    },
    {
      "cell_type": "code",
      "metadata": {
        "id": "8IkIwJqNrvvM"
      },
      "source": [
        "import pandas as pd"
      ],
      "execution_count": 2,
      "outputs": []
    },
    {
      "cell_type": "code",
      "metadata": {
        "id": "8N6axfdWXpWt"
      },
      "source": [
        "import overpy\n",
        "from OSMPythonTools.nominatim import Nominatim\n",
        "from OSMPythonTools.overpass import overpassQueryBuilder, Overpass"
      ],
      "execution_count": 3,
      "outputs": []
    },
    {
      "cell_type": "code",
      "metadata": {
        "id": "A9FN99Avl3Vx"
      },
      "source": [
        "# загрузим список стран с кодами, среди них найдем нужные areaId \n",
        "\n",
        "from country_list import countries_for_language\n",
        "countries = tuple(countries_for_language('en'))"
      ],
      "execution_count": 4,
      "outputs": []
    },
    {
      "cell_type": "code",
      "metadata": {
        "id": "-aCfAHg6oF0k"
      },
      "source": [
        "cntr = []\n",
        "codes = []\n",
        "nominatim = Nominatim()\n",
        "for i in countries:\n",
        "  area = nominatim.query(i[1]).areaId()\n",
        "  try:\n",
        "    if area % 10 == 0:\n",
        "      codes.append(i[0])\n",
        "      cntr.append(i[1])\n",
        "  except TypeError:\n",
        "    pass\n",
        "\n",
        "target_cntr = pd.DataFrame()\n",
        "target_cntr['country_name'] = cntr\n",
        "target_cntr['country_code'] = codes"
      ],
      "execution_count": 6,
      "outputs": []
    },
    {
      "cell_type": "code",
      "metadata": {
        "id": "LlqaMGBjkn-p",
        "outputId": "8e9ffc06-2800-44f8-f65d-c958e4c88304",
        "colab": {
          "base_uri": "https://localhost:8080/",
          "height": 219
        }
      },
      "source": [
        "print(target_cntr.shape)\n",
        "target_cntr.head()"
      ],
      "execution_count": 7,
      "outputs": [
        {
          "output_type": "stream",
          "text": [
            "(28, 2)\n"
          ],
          "name": "stdout"
        },
        {
          "output_type": "execute_result",
          "data": {
            "text/html": [
              "<div>\n",
              "<style scoped>\n",
              "    .dataframe tbody tr th:only-of-type {\n",
              "        vertical-align: middle;\n",
              "    }\n",
              "\n",
              "    .dataframe tbody tr th {\n",
              "        vertical-align: top;\n",
              "    }\n",
              "\n",
              "    .dataframe thead th {\n",
              "        text-align: right;\n",
              "    }\n",
              "</style>\n",
              "<table border=\"1\" class=\"dataframe\">\n",
              "  <thead>\n",
              "    <tr style=\"text-align: right;\">\n",
              "      <th></th>\n",
              "      <th>country_name</th>\n",
              "      <th>country_code</th>\n",
              "    </tr>\n",
              "  </thead>\n",
              "  <tbody>\n",
              "    <tr>\n",
              "      <th>0</th>\n",
              "      <td>Åland Islands</td>\n",
              "      <td>AX</td>\n",
              "    </tr>\n",
              "    <tr>\n",
              "      <th>1</th>\n",
              "      <td>Antigua &amp; Barbuda</td>\n",
              "      <td>AG</td>\n",
              "    </tr>\n",
              "    <tr>\n",
              "      <th>2</th>\n",
              "      <td>Australia</td>\n",
              "      <td>AU</td>\n",
              "    </tr>\n",
              "    <tr>\n",
              "      <th>3</th>\n",
              "      <td>Azerbaijan</td>\n",
              "      <td>AZ</td>\n",
              "    </tr>\n",
              "    <tr>\n",
              "      <th>4</th>\n",
              "      <td>Bangladesh</td>\n",
              "      <td>BD</td>\n",
              "    </tr>\n",
              "  </tbody>\n",
              "</table>\n",
              "</div>"
            ],
            "text/plain": [
              "        country_name country_code\n",
              "0      Åland Islands           AX\n",
              "1  Antigua & Barbuda           AG\n",
              "2          Australia           AU\n",
              "3         Azerbaijan           AZ\n",
              "4         Bangladesh           BD"
            ]
          },
          "metadata": {
            "tags": []
          },
          "execution_count": 7
        }
      ]
    },
    {
      "cell_type": "code",
      "metadata": {
        "id": "iqgLfJpnvyei"
      },
      "source": [
        "# итого получили 28 стран"
      ],
      "execution_count": 111,
      "outputs": []
    },
    {
      "cell_type": "code",
      "metadata": {
        "id": "yprxoKIjt4YM",
        "outputId": "c43300d3-3b7c-4442-cc39-f48c95dde225",
        "colab": {
          "base_uri": "https://localhost:8080/"
        }
      },
      "source": [
        "# подсчет объектов жилой недвижимости\n",
        "\n",
        "houses_cnt = []\n",
        "\n",
        "for i in target_cntr.country_code:\n",
        "  try:\n",
        "    r = api.query(\"\"\"\n",
        "        area[\"ISO3166-1\"={}][admin_level=2];\n",
        "        (node[\"building\"~\"apartments|house\"](area);\n",
        "        way[\"building\"~\"apartments|house\"](area);\n",
        "        rel[\"building\"=\"apartments\"](area);\n",
        "        );\n",
        "        out center;\n",
        "    \"\"\".format(i))\n",
        "\n",
        "    coords  = []\n",
        "    coords += [(float(node.lon), float(node.lat)) \n",
        "              for node in r.nodes]\n",
        "    coords += [(float(way.center_lon), float(way.center_lat)) \n",
        "              for way in r.ways]\n",
        "    coords += [(float(rel.center_lon), float(rel.center_lat)) \n",
        "              for rel in r.relations]\n",
        "\n",
        "    cnt = len(coords)\n",
        "    houses_cnt.append(cnt)\n",
        "  except:\n",
        "    print('Error on cntry: ', i)\n"
      ],
      "execution_count": 78,
      "outputs": [
        {
          "output_type": "stream",
          "text": [
            "Error on cntry:  BR\n",
            "Error on cntry:  BQ\n",
            "Error on cntry:  ST\n",
            "Error on cntry:  TK\n",
            "Error on cntry:  UZ\n"
          ],
          "name": "stdout"
        }
      ]
    },
    {
      "cell_type": "code",
      "metadata": {
        "id": "tqTlPXEcvq7V"
      },
      "source": [
        "# Пробегая в цикле бывают ошибки на отдельных странах, их обсчитывал отдельно"
      ],
      "execution_count": 80,
      "outputs": []
    },
    {
      "cell_type": "code",
      "metadata": {
        "id": "5NADtZ7MtRNl"
      },
      "source": [
        "api = overpy.Overpass()\n",
        "\n",
        "r = api.query(\"\"\"\n",
        "area[\"ISO3166-1\"= \"BR\"][admin_level=2];\n",
        "(node[\"building\"~\"apartments|house\"](area);\n",
        " way[\"building\"~\"apartments|house\"](area);\n",
        " rel[\"building\"=\"apartments\"](area);\n",
        ");\n",
        "out center;\n",
        "\"\"\")\n",
        "coords = []\n",
        "coords += [(float(node.lon), float(node.lat)) \n",
        "           for node in r.nodes]\n",
        "coords += [(float(way.center_lon), float(way.center_lat)) \n",
        "           for way in r.ways]\n",
        "coords += [(float(rel.center_lon), float(rel.center_lat)) \n",
        "           for rel in r.relations]\n",
        "\n",
        "BR_cnt = len(coords)"
      ],
      "execution_count": 85,
      "outputs": []
    },
    {
      "cell_type": "code",
      "metadata": {
        "id": "6CRQaqKftqhC"
      },
      "source": [
        "api = overpy.Overpass()\n",
        "\n",
        "r = api.query(\"\"\"\n",
        "area[\"ISO3166-1\"= \"BQ\"][admin_level=2];\n",
        "(node[\"building\"~\"apartments|house\"](area);\n",
        " way[\"building\"~\"apartments|house\"](area);\n",
        " rel[\"building\"=\"apartments\"](area);\n",
        ");\n",
        "out center;\n",
        "\"\"\")\n",
        "coords = []\n",
        "coords += [(float(node.lon), float(node.lat)) \n",
        "           for node in r.nodes]\n",
        "coords += [(float(way.center_lon), float(way.center_lat)) \n",
        "           for way in r.ways]\n",
        "coords += [(float(rel.center_lon), float(rel.center_lat)) \n",
        "           for rel in r.relations]\n",
        "\n",
        "BQ_cnt = len(coords)"
      ],
      "execution_count": 87,
      "outputs": []
    },
    {
      "cell_type": "code",
      "metadata": {
        "id": "SXPmQHpt1c7y"
      },
      "source": [
        "\n",
        "api = overpy.Overpass()\n",
        "\n",
        "r = api.query(\"\"\"\n",
        "area[\"ISO3166-1\"= \"ST\"][admin_level=2];\n",
        "(node[\"building\"~\"apartments|house\"](area);\n",
        " way[\"building\"~\"apartments|house\"](area);\n",
        " rel[\"building\"=\"apartments\"](area);\n",
        ");\n",
        "out center;\n",
        "\"\"\")\n",
        "coords = []\n",
        "coords += [(float(node.lon), float(node.lat)) \n",
        "           for node in r.nodes]\n",
        "coords += [(float(way.center_lon), float(way.center_lat)) \n",
        "           for way in r.ways]\n",
        "coords += [(float(rel.center_lon), float(rel.center_lat)) \n",
        "           for rel in r.relations]\n",
        "\n",
        "ST_cnt = len(coords)"
      ],
      "execution_count": 88,
      "outputs": []
    },
    {
      "cell_type": "code",
      "metadata": {
        "id": "345lfIiH1hLu"
      },
      "source": [
        "api = overpy.Overpass()\n",
        "\n",
        "r = api.query(\"\"\"\n",
        "area[\"ISO3166-1\"= \"TK\"][admin_level=2];\n",
        "(node[\"building\"~\"apartments|house\"](area);\n",
        " way[\"building\"~\"apartments|house\"](area);\n",
        " rel[\"building\"=\"apartments\"](area);\n",
        ");\n",
        "out center;\n",
        "\"\"\")\n",
        "coords = []\n",
        "coords += [(float(node.lon), float(node.lat)) \n",
        "           for node in r.nodes]\n",
        "coords += [(float(way.center_lon), float(way.center_lat)) \n",
        "           for way in r.ways]\n",
        "coords += [(float(rel.center_lon), float(rel.center_lat)) \n",
        "           for rel in r.relations]\n",
        "\n",
        "TK_cnt = len(coords)"
      ],
      "execution_count": 89,
      "outputs": []
    },
    {
      "cell_type": "code",
      "metadata": {
        "id": "gH6YHouy1nDi"
      },
      "source": [
        "api = overpy.Overpass()\n",
        "\n",
        "r = api.query(\"\"\"\n",
        "area[\"ISO3166-1\"= \"UZ\"][admin_level=2];\n",
        "(node[\"building\"~\"apartments|house\"](area);\n",
        " way[\"building\"~\"apartments|house\"](area);\n",
        " rel[\"building\"=\"apartments\"](area);\n",
        ");\n",
        "out center;\n",
        "\"\"\")\n",
        "coords = []\n",
        "coords += [(float(node.lon), float(node.lat)) \n",
        "           for node in r.nodes]\n",
        "coords += [(float(way.center_lon), float(way.center_lat)) \n",
        "           for way in r.ways]\n",
        "coords += [(float(rel.center_lon), float(rel.center_lat)) \n",
        "           for rel in r.relations]\n",
        "\n",
        "UZ_cnt = len(coords)"
      ],
      "execution_count": 90,
      "outputs": []
    },
    {
      "cell_type": "code",
      "metadata": {
        "id": "1GiqcJ3n4FZB",
        "outputId": "e42e0aee-3fc0-45aa-85fd-21207d3a8559",
        "colab": {
          "base_uri": "https://localhost:8080/",
          "height": 202
        }
      },
      "source": [
        "target_cntr[target_cntr['country_code'].isin(['BR','BQ','ST','TK','UZ'])]"
      ],
      "execution_count": 102,
      "outputs": [
        {
          "output_type": "execute_result",
          "data": {
            "text/html": [
              "<div>\n",
              "<style scoped>\n",
              "    .dataframe tbody tr th:only-of-type {\n",
              "        vertical-align: middle;\n",
              "    }\n",
              "\n",
              "    .dataframe tbody tr th {\n",
              "        vertical-align: top;\n",
              "    }\n",
              "\n",
              "    .dataframe thead th {\n",
              "        text-align: right;\n",
              "    }\n",
              "</style>\n",
              "<table border=\"1\" class=\"dataframe\">\n",
              "  <thead>\n",
              "    <tr style=\"text-align: right;\">\n",
              "      <th></th>\n",
              "      <th>country_name</th>\n",
              "      <th>country_code</th>\n",
              "    </tr>\n",
              "  </thead>\n",
              "  <tbody>\n",
              "    <tr>\n",
              "      <th>5</th>\n",
              "      <td>Brazil</td>\n",
              "      <td>BR</td>\n",
              "    </tr>\n",
              "    <tr>\n",
              "      <th>8</th>\n",
              "      <td>Caribbean Netherlands</td>\n",
              "      <td>BQ</td>\n",
              "    </tr>\n",
              "    <tr>\n",
              "      <th>22</th>\n",
              "      <td>São Tomé &amp; Príncipe</td>\n",
              "      <td>ST</td>\n",
              "    </tr>\n",
              "    <tr>\n",
              "      <th>26</th>\n",
              "      <td>Tokelau</td>\n",
              "      <td>TK</td>\n",
              "    </tr>\n",
              "    <tr>\n",
              "      <th>27</th>\n",
              "      <td>Uzbekistan</td>\n",
              "      <td>UZ</td>\n",
              "    </tr>\n",
              "  </tbody>\n",
              "</table>\n",
              "</div>"
            ],
            "text/plain": [
              "             country_name country_code\n",
              "5                  Brazil           BR\n",
              "8   Caribbean Netherlands           BQ\n",
              "22    São Tomé & Príncipe           ST\n",
              "26                Tokelau           TK\n",
              "27             Uzbekistan           UZ"
            ]
          },
          "metadata": {
            "tags": []
          },
          "execution_count": 102
        }
      ]
    },
    {
      "cell_type": "code",
      "metadata": {
        "id": "2UUVGw2L3TGA"
      },
      "source": [
        "houses_cnt_tst = houses_cnt.copy()\n",
        "\n",
        "houses_cnt_tst.insert(5, BR_cnt)\n",
        "houses_cnt_tst.insert(8, BQ_cnt)\n",
        "houses_cnt_tst.insert(22, ST_cnt)\n",
        "houses_cnt_tst.insert(26, TK_cnt)\n",
        "houses_cnt_tst.insert(27, UZ_cnt)"
      ],
      "execution_count": 103,
      "outputs": []
    },
    {
      "cell_type": "code",
      "metadata": {
        "id": "TKcrchYn43GX"
      },
      "source": [
        "target_cntr['country_houses_cnt'] = houses_cnt_tst"
      ],
      "execution_count": 104,
      "outputs": []
    },
    {
      "cell_type": "code",
      "metadata": {
        "id": "iTTIbEiW46k2",
        "outputId": "3a924439-862b-4192-d081-927e76d2b163",
        "colab": {
          "base_uri": "https://localhost:8080/",
          "height": 79
        }
      },
      "source": [
        "target_cntr.sort_values(by = ['country_houses_cnt'], ascending = False).head(1)"
      ],
      "execution_count": 109,
      "outputs": [
        {
          "output_type": "execute_result",
          "data": {
            "text/html": [
              "<div>\n",
              "<style scoped>\n",
              "    .dataframe tbody tr th:only-of-type {\n",
              "        vertical-align: middle;\n",
              "    }\n",
              "\n",
              "    .dataframe tbody tr th {\n",
              "        vertical-align: top;\n",
              "    }\n",
              "\n",
              "    .dataframe thead th {\n",
              "        text-align: right;\n",
              "    }\n",
              "</style>\n",
              "<table border=\"1\" class=\"dataframe\">\n",
              "  <thead>\n",
              "    <tr style=\"text-align: right;\">\n",
              "      <th></th>\n",
              "      <th>country_name</th>\n",
              "      <th>country_code</th>\n",
              "      <th>country_houses_cnt</th>\n",
              "    </tr>\n",
              "  </thead>\n",
              "  <tbody>\n",
              "    <tr>\n",
              "      <th>5</th>\n",
              "      <td>Brazil</td>\n",
              "      <td>BR</td>\n",
              "      <td>8005</td>\n",
              "    </tr>\n",
              "  </tbody>\n",
              "</table>\n",
              "</div>"
            ],
            "text/plain": [
              "  country_name country_code  country_houses_cnt\n",
              "5       Brazil           BR                8005"
            ]
          },
          "metadata": {
            "tags": []
          },
          "execution_count": 109
        }
      ]
    },
    {
      "cell_type": "code",
      "metadata": {
        "id": "SRl0IKVn6EC8"
      },
      "source": [
        "# Найдем расстояние от точки в Афганистане до 5 банкоматов в бразилии"
      ],
      "execution_count": 112,
      "outputs": []
    },
    {
      "cell_type": "code",
      "metadata": {
        "id": "bxZVbD3Q7L6t"
      },
      "source": [
        "# найдем банкоматы\n",
        "\n",
        "api = overpy.Overpass()\n",
        "r = api.query(\"\"\"\n",
        "area[\"ISO3166-1\"=\"BR\"][admin_level=2];\n",
        "(node[\"amenity\"=\"atm\"](area);\n",
        " way[\"amenity\"=\"atm\"](area);\n",
        " rel[\"amenity\"=\"atm\"](area);\n",
        ");\n",
        "out center;\n",
        "\"\"\")\n",
        "coords  = []\n",
        "coords += [(float(node.lon), float(node.lat)) \n",
        "           for node in r.nodes]\n",
        "coords += [(float(way.center_lon), float(way.center_lat)) \n",
        "           for way in r.ways]\n",
        "coords += [(float(rel.center_lon), float(rel.center_lat)) \n",
        "           for rel in r.relations]"
      ],
      "execution_count": 220,
      "outputs": []
    },
    {
      "cell_type": "code",
      "metadata": {
        "id": "uLGPdGBw9sY2"
      },
      "source": [
        "from rtree import index\n",
        "from rtree.index import Rtree"
      ],
      "execution_count": 39,
      "outputs": []
    },
    {
      "cell_type": "code",
      "metadata": {
        "id": "p_JBa1AKFUg8"
      },
      "source": [
        "# находим ближайшие к точке в афганистане 5 банкоматов\n",
        "\n",
        "r_tree = Rtree()\n",
        "\n",
        "for i, j in enumerate(coords):\n",
        "    r_tree.insert(i, j+j, j)\n",
        "    \n",
        "five_atm = list(r_tree.nearest([afgan_point.x, afgan_point.y], 5, objects = 'raw'))"
      ],
      "execution_count": 223,
      "outputs": []
    },
    {
      "cell_type": "code",
      "metadata": {
        "id": "GjAcN0Wnaq6s"
      },
      "source": [
        "import math\n",
        "\n",
        "def haversine(coord1, coord2):\n",
        "    R = 6_372.8  # Earth radius in km\n",
        "    lat1, lon1 = coord1\n",
        "    lat2, lon2 = coord2\n",
        "    \n",
        "    phi1, phi2 = math.radians(lat1), math.radians(lat2) \n",
        "    dphi       = math.radians(lat2 - lat1)\n",
        "    dlambda    = math.radians(lon2 - lon1)\n",
        "    \n",
        "    a = math.sin(dphi/2)**2 + \\\n",
        "        math.cos(phi1)*math.cos(phi2)*math.sin(dlambda/2)**2\n",
        "    \n",
        "    return 2 * R * math.atan2(math.sqrt(a), math.sqrt(1 - a))"
      ],
      "execution_count": 58,
      "outputs": []
    },
    {
      "cell_type": "code",
      "metadata": {
        "id": "fD6_DcA0a1Hu"
      },
      "source": [
        "sum = 0\n",
        "for i in five_atm:\n",
        "    sum += haversine(i, (afgan_point.x, afgan_point.y))"
      ],
      "execution_count": 239,
      "outputs": []
    },
    {
      "cell_type": "code",
      "metadata": {
        "id": "K9Ecj4yabU8B",
        "outputId": "117f2093-9423-4dc9-faca-90b8ba4acdf6",
        "colab": {
          "base_uri": "https://localhost:8080/"
        }
      },
      "source": [
        "sum"
      ],
      "execution_count": 240,
      "outputs": [
        {
          "output_type": "execute_result",
          "data": {
            "text/plain": [
              "58358.3354509871"
            ]
          },
          "metadata": {
            "tags": []
          },
          "execution_count": 240
        }
      ]
    },
    {
      "cell_type": "code",
      "metadata": {
        "id": "UDsduIz_t419"
      },
      "source": [
        "## Совокупное расстояние составило 58 358.34 км"
      ],
      "execution_count": 86,
      "outputs": []
    },
    {
      "cell_type": "markdown",
      "metadata": {
        "id": "e_7ph4dSchGF"
      },
      "source": [
        "**2. Расстояние от точки до 5 ближайших школ, находящихся в стране с наибольшим количеством аптек в столице**\n"
      ]
    },
    {
      "cell_type": "code",
      "metadata": {
        "id": "33kTJvsScnvM",
        "outputId": "1dafe11f-9c52-43fa-a220-6f6f9cf819f9",
        "colab": {
          "base_uri": "https://localhost:8080/"
        }
      },
      "source": [
        "# подсчет аптек в столице\n",
        "api = overpy.Overpass()\n",
        "pharm_cnt = []\n",
        "\n",
        "for i in target_cntr.country_code:\n",
        "  try:\n",
        "    r = api.query(\"\"\"\n",
        "        area[\"ISO3166-1\"={}][admin_level=2];\n",
        "        (node[\"amenity\" = \"pharmacy\"](area);\n",
        "        );\n",
        "        out center; \"\"\".format(i))\n",
        "\n",
        "    coords  = []\n",
        "    coords += [(float(node.lon), float(node.lat)) \n",
        "              for node in r.nodes]\n",
        "    coords += [(float(way.center_lon), float(way.center_lat)) \n",
        "              for way in r.ways]\n",
        "    coords += [(float(rel.center_lon), float(rel.center_lat)) \n",
        "              for rel in r.relations]\n",
        "\n",
        "    cnt = len(coords)\n",
        "    pharm_cnt.append(cnt)\n",
        "  except:\n",
        "    print('Error on cntry: ', i)"
      ],
      "execution_count": 19,
      "outputs": [
        {
          "output_type": "stream",
          "text": [
            "Error on cntry:  AG\n",
            "Error on cntry:  BR\n",
            "Error on cntry:  BQ\n",
            "Error on cntry:  KM\n",
            "Error on cntry:  TZ\n",
            "Error on cntry:  UZ\n"
          ],
          "name": "stdout"
        }
      ]
    },
    {
      "cell_type": "code",
      "metadata": {
        "id": "5-hY2zqajDA7"
      },
      "source": [
        "pharm_cnt_save = pharm_cnt.copy()"
      ],
      "execution_count": 21,
      "outputs": []
    },
    {
      "cell_type": "code",
      "metadata": {
        "id": "1fRVEVrThaHm"
      },
      "source": [
        "api = overpy.Overpass()\n",
        "\n",
        "r = api.query(\"\"\"\n",
        "    area[\"ISO3166-1\"= \"AG\"][admin_level=2];\n",
        "    (node[\"amenity\" = \"pharmacy\"](area);\n",
        "    );\n",
        "    out center; \"\"\")\n",
        "\n",
        "coords  = []\n",
        "coords += [(float(node.lon), float(node.lat)) \n",
        "          for node in r.nodes]\n",
        "coords += [(float(way.center_lon), float(way.center_lat)) \n",
        "          for way in r.ways]\n",
        "coords += [(float(rel.center_lon), float(rel.center_lat)) \n",
        "          for rel in r.relations]\n",
        "\n",
        "AG_cnt = len(coords)"
      ],
      "execution_count": 22,
      "outputs": []
    },
    {
      "cell_type": "code",
      "metadata": {
        "id": "SzkyKThDlAHy"
      },
      "source": [
        "api = overpy.Overpass()\n",
        "\n",
        "r = api.query(\"\"\"\n",
        "    area[\"ISO3166-1\"= \"BR\"][admin_level=2];\n",
        "    (node[\"amenity\" = \"pharmacy\"](area);\n",
        "    );\n",
        "    out center; \"\"\")\n",
        "\n",
        "coords  = []\n",
        "coords += [(float(node.lon), float(node.lat)) \n",
        "          for node in r.nodes]\n",
        "coords += [(float(way.center_lon), float(way.center_lat)) \n",
        "          for way in r.ways]\n",
        "coords += [(float(rel.center_lon), float(rel.center_lat)) \n",
        "          for rel in r.relations]\n",
        "\n",
        "BR_cnt = len(coords)"
      ],
      "execution_count": 23,
      "outputs": []
    },
    {
      "cell_type": "code",
      "metadata": {
        "id": "mdiZDWJ1lOUR"
      },
      "source": [
        "api = overpy.Overpass()\n",
        "\n",
        "r = api.query(\"\"\"\n",
        "    area[\"ISO3166-1\"= \"BQ\"][admin_level=2];\n",
        "    (node[\"amenity\" = \"pharmacy\"](area);\n",
        "    );\n",
        "    out center; \"\"\")\n",
        "\n",
        "coords  = []\n",
        "coords += [(float(node.lon), float(node.lat)) \n",
        "          for node in r.nodes]\n",
        "coords += [(float(way.center_lon), float(way.center_lat)) \n",
        "          for way in r.ways]\n",
        "coords += [(float(rel.center_lon), float(rel.center_lat)) \n",
        "          for rel in r.relations]\n",
        "\n",
        "BQ_cnt = len(coords)"
      ],
      "execution_count": 24,
      "outputs": []
    },
    {
      "cell_type": "code",
      "metadata": {
        "id": "In-BSdfEfjc7"
      },
      "source": [
        "api = overpy.Overpass()\n",
        "\n",
        "r = api.query(\"\"\"\n",
        "    area[\"ISO3166-1\"= \"KM\"][admin_level=2];\n",
        "    (node[\"amenity\" = \"pharmacy\"](area);\n",
        "    );\n",
        "    out center; \"\"\")\n",
        "\n",
        "coords  = []\n",
        "coords += [(float(node.lon), float(node.lat)) \n",
        "          for node in r.nodes]\n",
        "coords += [(float(way.center_lon), float(way.center_lat)) \n",
        "          for way in r.ways]\n",
        "coords += [(float(rel.center_lon), float(rel.center_lat)) \n",
        "          for rel in r.relations]\n",
        "\n",
        "KM_cnt = len(coords)"
      ],
      "execution_count": 25,
      "outputs": []
    },
    {
      "cell_type": "code",
      "metadata": {
        "id": "3eSY9t8nleqz"
      },
      "source": [
        "api = overpy.Overpass()\n",
        "\n",
        "r = api.query(\"\"\"\n",
        "    area[\"ISO3166-1\"= \"TZ\"][admin_level=2];\n",
        "    (node[\"amenity\" = \"pharmacy\"](area);\n",
        "    );\n",
        "    out center; \"\"\")\n",
        "\n",
        "coords  = []\n",
        "coords += [(float(node.lon), float(node.lat)) \n",
        "          for node in r.nodes]\n",
        "coords += [(float(way.center_lon), float(way.center_lat)) \n",
        "          for way in r.ways]\n",
        "coords += [(float(rel.center_lon), float(rel.center_lat)) \n",
        "          for rel in r.relations]\n",
        "\n",
        "TZ_cnt = len(coords)"
      ],
      "execution_count": 26,
      "outputs": []
    },
    {
      "cell_type": "code",
      "metadata": {
        "id": "E8B39jKoljC8"
      },
      "source": [
        "api = overpy.Overpass()\n",
        "\n",
        "r = api.query(\"\"\"\n",
        "    area[\"ISO3166-1\"= \"UZ\"][admin_level=2];\n",
        "    (node[\"amenity\" = \"pharmacy\"](area);\n",
        "    );\n",
        "    out center; \"\"\")\n",
        "\n",
        "coords  = []\n",
        "coords += [(float(node.lon), float(node.lat)) \n",
        "          for node in r.nodes]\n",
        "coords += [(float(way.center_lon), float(way.center_lat)) \n",
        "          for way in r.ways]\n",
        "coords += [(float(rel.center_lon), float(rel.center_lat)) \n",
        "          for rel in r.relations]\n",
        "\n",
        "UZ_cnt = len(coords)"
      ],
      "execution_count": 28,
      "outputs": []
    },
    {
      "cell_type": "code",
      "metadata": {
        "id": "Lfsdf7rQlqjK",
        "outputId": "d9cea510-61da-49cd-f60d-115f80ba4035",
        "colab": {
          "base_uri": "https://localhost:8080/",
          "height": 233
        }
      },
      "source": [
        "target_cntr[target_cntr['country_code'].isin(['AG','BR','BQ','KM','TZ','UZ'])]"
      ],
      "execution_count": 29,
      "outputs": [
        {
          "output_type": "execute_result",
          "data": {
            "text/html": [
              "<div>\n",
              "<style scoped>\n",
              "    .dataframe tbody tr th:only-of-type {\n",
              "        vertical-align: middle;\n",
              "    }\n",
              "\n",
              "    .dataframe tbody tr th {\n",
              "        vertical-align: top;\n",
              "    }\n",
              "\n",
              "    .dataframe thead th {\n",
              "        text-align: right;\n",
              "    }\n",
              "</style>\n",
              "<table border=\"1\" class=\"dataframe\">\n",
              "  <thead>\n",
              "    <tr style=\"text-align: right;\">\n",
              "      <th></th>\n",
              "      <th>country_name</th>\n",
              "      <th>country_code</th>\n",
              "    </tr>\n",
              "  </thead>\n",
              "  <tbody>\n",
              "    <tr>\n",
              "      <th>1</th>\n",
              "      <td>Antigua &amp; Barbuda</td>\n",
              "      <td>AG</td>\n",
              "    </tr>\n",
              "    <tr>\n",
              "      <th>5</th>\n",
              "      <td>Brazil</td>\n",
              "      <td>BR</td>\n",
              "    </tr>\n",
              "    <tr>\n",
              "      <th>8</th>\n",
              "      <td>Caribbean Netherlands</td>\n",
              "      <td>BQ</td>\n",
              "    </tr>\n",
              "    <tr>\n",
              "      <th>10</th>\n",
              "      <td>Comoros</td>\n",
              "      <td>KM</td>\n",
              "    </tr>\n",
              "    <tr>\n",
              "      <th>25</th>\n",
              "      <td>Tanzania</td>\n",
              "      <td>TZ</td>\n",
              "    </tr>\n",
              "    <tr>\n",
              "      <th>27</th>\n",
              "      <td>Uzbekistan</td>\n",
              "      <td>UZ</td>\n",
              "    </tr>\n",
              "  </tbody>\n",
              "</table>\n",
              "</div>"
            ],
            "text/plain": [
              "             country_name country_code\n",
              "1       Antigua & Barbuda           AG\n",
              "5                  Brazil           BR\n",
              "8   Caribbean Netherlands           BQ\n",
              "10                Comoros           KM\n",
              "25               Tanzania           TZ\n",
              "27             Uzbekistan           UZ"
            ]
          },
          "metadata": {
            "tags": []
          },
          "execution_count": 29
        }
      ]
    },
    {
      "cell_type": "code",
      "metadata": {
        "id": "KWOsa7lul3YH"
      },
      "source": [
        "pharm_cnt.insert(1, AG_cnt)\n",
        "pharm_cnt.insert(5, BR_cnt)\n",
        "pharm_cnt.insert(8, BQ_cnt)\n",
        "pharm_cnt.insert(10, KM_cnt)\n",
        "pharm_cnt.insert(25, TZ_cnt)\n",
        "pharm_cnt.insert(27, UZ_cnt)"
      ],
      "execution_count": 30,
      "outputs": []
    },
    {
      "cell_type": "code",
      "metadata": {
        "id": "Ionti63-mdUw"
      },
      "source": [
        "target_cntr['pharm_cnt'] = pharm_cnt"
      ],
      "execution_count": 31,
      "outputs": []
    },
    {
      "cell_type": "code",
      "metadata": {
        "id": "uo-PwpdjmiOd",
        "outputId": "ae2d52c6-892f-4f92-b059-7230e587bfbf",
        "colab": {
          "base_uri": "https://localhost:8080/",
          "height": 202
        }
      },
      "source": [
        "target_cntr.sort_values(by = ['pharm_cnt'], ascending=False).head()"
      ],
      "execution_count": 36,
      "outputs": [
        {
          "output_type": "execute_result",
          "data": {
            "text/html": [
              "<div>\n",
              "<style scoped>\n",
              "    .dataframe tbody tr th:only-of-type {\n",
              "        vertical-align: middle;\n",
              "    }\n",
              "\n",
              "    .dataframe tbody tr th {\n",
              "        vertical-align: top;\n",
              "    }\n",
              "\n",
              "    .dataframe thead th {\n",
              "        text-align: right;\n",
              "    }\n",
              "</style>\n",
              "<table border=\"1\" class=\"dataframe\">\n",
              "  <thead>\n",
              "    <tr style=\"text-align: right;\">\n",
              "      <th></th>\n",
              "      <th>country_name</th>\n",
              "      <th>country_code</th>\n",
              "      <th>pharm_cnt</th>\n",
              "    </tr>\n",
              "  </thead>\n",
              "  <tbody>\n",
              "    <tr>\n",
              "      <th>5</th>\n",
              "      <td>Brazil</td>\n",
              "      <td>BR</td>\n",
              "      <td>6796</td>\n",
              "    </tr>\n",
              "    <tr>\n",
              "      <th>21</th>\n",
              "      <td>Portugal</td>\n",
              "      <td>PT</td>\n",
              "      <td>2113</td>\n",
              "    </tr>\n",
              "    <tr>\n",
              "      <th>27</th>\n",
              "      <td>Uzbekistan</td>\n",
              "      <td>UZ</td>\n",
              "      <td>1931</td>\n",
              "    </tr>\n",
              "    <tr>\n",
              "      <th>2</th>\n",
              "      <td>Australia</td>\n",
              "      <td>AU</td>\n",
              "      <td>1844</td>\n",
              "    </tr>\n",
              "    <tr>\n",
              "      <th>25</th>\n",
              "      <td>Tanzania</td>\n",
              "      <td>TZ</td>\n",
              "      <td>1814</td>\n",
              "    </tr>\n",
              "  </tbody>\n",
              "</table>\n",
              "</div>"
            ],
            "text/plain": [
              "   country_name country_code  pharm_cnt\n",
              "5        Brazil           BR       6796\n",
              "21     Portugal           PT       2113\n",
              "27   Uzbekistan           UZ       1931\n",
              "2     Australia           AU       1844\n",
              "25     Tanzania           TZ       1814"
            ]
          },
          "metadata": {
            "tags": []
          },
          "execution_count": 36
        }
      ]
    },
    {
      "cell_type": "code",
      "metadata": {
        "id": "NRXxvdTYnkFf"
      },
      "source": [
        "# найдем школы\n",
        "\n",
        "api = overpy.Overpass()\n",
        "r = api.query(\"\"\"\n",
        "area[\"ISO3166-1\"=\"BR\"][admin_level=2];\n",
        "(node[\"amenity\"=\"school\"](area);\n",
        " way[\"amenity\"=\"school\"](area);\n",
        " rel[\"amenity\"=\"school\"](area);\n",
        ");\n",
        "out center;\n",
        "\"\"\")\n",
        "coords  = []\n",
        "coords += [(float(node.lon), float(node.lat)) \n",
        "           for node in r.nodes]\n",
        "coords += [(float(way.center_lon), float(way.center_lat)) \n",
        "           for way in r.ways]\n",
        "coords += [(float(rel.center_lon), float(rel.center_lat)) \n",
        "           for rel in r.relations]"
      ],
      "execution_count": 37,
      "outputs": []
    },
    {
      "cell_type": "code",
      "metadata": {
        "id": "ORLfca8woRpo"
      },
      "source": [
        "r_tree = Rtree()\n",
        "\n",
        "for i, j in enumerate(coords):\n",
        "    r_tree.insert(i, j+j, j)\n",
        "    \n",
        "five_schools = list(r_tree.nearest([afgan_point.x, afgan_point.y], 5, objects = 'raw'))"
      ],
      "execution_count": 53,
      "outputs": []
    },
    {
      "cell_type": "code",
      "metadata": {
        "id": "OGUIn08kpXp5"
      },
      "source": [
        "sum = 0\n",
        "for i in five_schools:\n",
        "    sum += haversine(i, (afgan_point.x, afgan_point.y))"
      ],
      "execution_count": 59,
      "outputs": []
    },
    {
      "cell_type": "code",
      "metadata": {
        "id": "-a72ybAtpu_i",
        "outputId": "e471296a-3045-4e26-cc39-7b6e246dc6dd",
        "colab": {
          "base_uri": "https://localhost:8080/"
        }
      },
      "source": [
        "sum"
      ],
      "execution_count": 61,
      "outputs": [
        {
          "output_type": "execute_result",
          "data": {
            "text/plain": [
              "59307.61754090291"
            ]
          },
          "metadata": {
            "tags": []
          },
          "execution_count": 61
        }
      ]
    },
    {
      "cell_type": "code",
      "metadata": {
        "id": "CBTtKMk3qAC6"
      },
      "source": [
        "## Cовокупное расстояние составило 59 307 км."
      ],
      "execution_count": 62,
      "outputs": []
    },
    {
      "cell_type": "markdown",
      "metadata": {
        "id": "z7XeSJGWFMMJ"
      },
      "source": [
        "## Задание №3. Поездка по Нью-Йорку (маршрут - 20 баллов, визуализация - 10 баллов)."
      ]
    },
    {
      "cell_type": "markdown",
      "metadata": {
        "id": "qwY0cvRmFMMK"
      },
      "source": [
        "Добраться __на автомобиле__ от входа в ``Central Park`` __Нью-Йорка__ (со стороны ``5th Avenue``) до пересечения ``Water Street`` и ``Washington Street`` в Бруклине (откуда получаются лучшие фото Манхэттенского моста) довольно непросто - разумеется, из-за вечных пробок. Однако еще сложнее это сделать, проезжая мимо школ, где дети то и дело переходят дорогу в неположенном месте."
      ]
    },
    {
      "cell_type": "markdown",
      "metadata": {
        "id": "OZjYTxwzFMML"
      },
      "source": [
        "Вам необходимо построить описанный выше маршрут, избегая на своем пути школы. Визуализируйте данный маршрут (также добавив школы и недоступные для проезда участки дорог) при помощи ``Folium``"
      ]
    },
    {
      "cell_type": "markdown",
      "metadata": {
        "id": "unzgrYztFMMN"
      },
      "source": [
        "Данные о расположении школ Нью-Йорка можно найти [здесь](https://catalog.data.gov/dataset/2019-2020-school-point-locations)"
      ]
    },
    {
      "cell_type": "code",
      "metadata": {
        "id": "xy1l7rjJFMMO"
      },
      "source": [
        "# put your code here"
      ],
      "execution_count": null,
      "outputs": []
    }
  ]
}